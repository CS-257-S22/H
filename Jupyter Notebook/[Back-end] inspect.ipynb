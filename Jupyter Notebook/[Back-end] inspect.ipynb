{
 "cells": [
  {
   "cell_type": "code",
   "execution_count": 1,
   "metadata": {},
   "outputs": [
    {
     "data": {
      "text/plain": [
       "'\\ndef inspect(date_to_find, securities, query_stat):\\n\\n    prices_df = pd.read_excel(\"Data/stock_prices.xlsx\")\\n    prices_df.loc[(prices_df[\\'Date_DateTime\\'] = date_to_find) & (prices_df[\\'SecuritiesCode\\'] = securities), query_stat]\\n'"
      ]
     },
     "execution_count": 1,
     "metadata": {},
     "output_type": "execute_result"
    }
   ],
   "source": [
    "#Will remove the import in the future\n",
    "import pandas as pd\n",
    "import datetime\n",
    "'''\n",
    "def inspect(date_to_find, securities, query_stat):\n",
    "\n",
    "    prices_df = pd.read_excel(\"Data/stock_prices.xlsx\")\n",
    "    prices_df.loc[(prices_df['Date_DateTime'] = date_to_find) & (prices_df['SecuritiesCode'] = securities), query_stat]\n",
    "'''\n"
   ]
  },
  {
   "cell_type": "code",
   "execution_count": 2,
   "metadata": {},
   "outputs": [],
   "source": [
    "prices_df = pd.read_excel(\"../Data/stock_prices.xlsx\")"
   ]
  },
  {
   "cell_type": "code",
   "execution_count": 4,
   "metadata": {},
   "outputs": [
    {
     "data": {
      "text/plain": [
       "RowId                       object\n",
       "Date                datetime64[ns]\n",
       "SecuritiesCode               int64\n",
       "Open                       float64\n",
       "High                       float64\n",
       "Low                        float64\n",
       "Close                      float64\n",
       "Volume                       int64\n",
       "AdjustmentFactor           float64\n",
       "SupervisionFlag               bool\n",
       "Target                     float64\n",
       "dtype: object"
      ]
     },
     "execution_count": 4,
     "metadata": {},
     "output_type": "execute_result"
    }
   ],
   "source": [
    "prices_df.dtypes"
   ]
  },
  {
   "cell_type": "code",
   "execution_count": 5,
   "metadata": {},
   "outputs": [],
   "source": [
    "date_to_find = datetime.datetime(2022, 2, 28)\n",
    "securities = 9997\n",
    "query_stat = \"Low\""
   ]
  },
  {
   "cell_type": "code",
   "execution_count": 8,
   "metadata": {},
   "outputs": [
    {
     "data": {
      "text/plain": [
       "111999    726.0\n",
       "Name: Low, dtype: float64"
      ]
     },
     "execution_count": 8,
     "metadata": {},
     "output_type": "execute_result"
    }
   ],
   "source": [
    "prices_df.loc[(prices_df['Date'] == date_to_find) & (prices_df['SecuritiesCode'] == securities), query_stat]"
   ]
  }
 ],
 "metadata": {
  "interpreter": {
   "hash": "aee8b7b246df8f9039afb4144a1f6fd8d2ca17a180786b69acc140d282b71a49"
  },
  "kernelspec": {
   "display_name": "Python 3.10.0 64-bit",
   "language": "python",
   "name": "python3"
  },
  "language_info": {
   "codemirror_mode": {
    "name": "ipython",
    "version": 3
   },
   "file_extension": ".py",
   "mimetype": "text/x-python",
   "name": "python",
   "nbconvert_exporter": "python",
   "pygments_lexer": "ipython3",
   "version": "3.8.8"
  },
  "orig_nbformat": 4
 },
 "nbformat": 4,
 "nbformat_minor": 2
}
