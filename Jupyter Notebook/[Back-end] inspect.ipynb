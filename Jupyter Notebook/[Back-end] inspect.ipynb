{
 "cells": [
  {
   "cell_type": "code",
   "execution_count": 1,
   "metadata": {},
   "outputs": [
    {
     "data": {
      "text/plain": [
       "'\\ndef inspect(date_to_find, securities, query_stat):\\n\\n    prices_df = pd.read_excel(\"Data/stock_prices.xlsx\")\\n    prices_df.loc[(prices_df[\\'Date_DateTime\\'] = date_to_find) & (prices_df[\\'SecuritiesCode\\'] = securities), query_stat]\\n'"
      ]
     },
     "execution_count": 1,
     "metadata": {},
     "output_type": "execute_result"
    }
   ],
   "source": [
    "#Will remove the import in the future\n",
    "import pandas as pd\n",
    "'''\n",
    "def inspect(date_to_find, securities, query_stat):\n",
    "\n",
    "    prices_df = pd.read_excel(\"Data/stock_prices.xlsx\")\n",
    "    prices_df.loc[(prices_df['Date_DateTime'] = date_to_find) & (prices_df['SecuritiesCode'] = securities), query_stat]\n",
    "'''\n"
   ]
  },
  {
   "cell_type": "code",
   "execution_count": 2,
   "metadata": {},
   "outputs": [],
   "source": [
    "nasdaq_df = pd.read_csv(\"../Data/Polished/NO_NULL_nasdaq_2010_mid_separate_year_month_day.csv\")"
   ]
  },
  {
   "cell_type": "code",
   "execution_count": 3,
   "metadata": {},
   "outputs": [
    {
     "data": {
      "text/plain": [
       "Date               object\n",
       "Day                 int64\n",
       "Month               int64\n",
       "Year                int64\n",
       "Low               float64\n",
       "Open              float64\n",
       "Volume            float64\n",
       "High              float64\n",
       "Close             float64\n",
       "Adjusted Close    float64\n",
       "Ticker Symbol      object\n",
       "dtype: object"
      ]
     },
     "execution_count": 3,
     "metadata": {},
     "output_type": "execute_result"
    }
   ],
   "source": [
    "nasdaq_df.dtypes"
   ]
  },
  {
   "cell_type": "code",
   "execution_count": 4,
   "metadata": {},
   "outputs": [],
   "source": [
    "date = [2017, 8]\n",
    "ticker = \"AAPL\"\n",
    "query_stat = \"Low\""
   ]
  },
  {
   "cell_type": "code",
   "execution_count": 5,
   "metadata": {},
   "outputs": [
    {
     "data": {
      "text/plain": [
       "439    40.035\n",
       "Name: Low, dtype: float64"
      ]
     },
     "execution_count": 5,
     "metadata": {},
     "output_type": "execute_result"
    }
   ],
   "source": [
    "nasdaq_df.loc[(nasdaq_df['Ticker Symbol'] == ticker) & (nasdaq_df['Year'] == date[0]) & (nasdaq_df['Month'] == date[1]), query_stat]"
   ]
  }
 ],
 "metadata": {
  "interpreter": {
   "hash": "aee8b7b246df8f9039afb4144a1f6fd8d2ca17a180786b69acc140d282b71a49"
  },
  "kernelspec": {
   "display_name": "Python 3.10.0 64-bit",
   "language": "python",
   "name": "python3"
  },
  "language_info": {
   "codemirror_mode": {
    "name": "ipython",
    "version": 3
   },
   "file_extension": ".py",
   "mimetype": "text/x-python",
   "name": "python",
   "nbconvert_exporter": "python",
   "pygments_lexer": "ipython3",
   "version": "3.10.4"
  },
  "orig_nbformat": 4
 },
 "nbformat": 4,
 "nbformat_minor": 2
}
