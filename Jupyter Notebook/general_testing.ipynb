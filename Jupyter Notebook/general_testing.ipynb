{
 "cells": [
  {
   "cell_type": "code",
   "execution_count": 1,
   "metadata": {},
   "outputs": [],
   "source": [
    "import matplotlib.pyplot as plt\n",
    "import pandas as pd\n",
    "import seaborn as sns\n",
    "import numpy as np"
   ]
  },
  {
   "cell_type": "code",
   "execution_count": 27,
   "metadata": {},
   "outputs": [
    {
     "data": {
      "text/plain": [
       "<matplotlib.legend.Legend at 0x15b389210>"
      ]
     },
     "execution_count": 27,
     "metadata": {},
     "output_type": "execute_result"
    },
    {
     "data": {
      "image/png": "[encoded data removed]",
      "text/plain": [
       "<Figure size 432x288 with 1 Axes>"
      ]
     },
     "metadata": {
      "needs_background": "light"
     },
     "output_type": "display_data"
    }
   ],
   "source": [
    "x = np.linspace (1,10,25)\n",
    "y = x * 2\n",
    "z = np.exp(x)\n",
    "\n",
    "my_dict = dict(x=x,y=y,z=z)\n",
    "my_2_dict = dict (x=x, y=z, z = y)\n",
    "data = pd.DataFrame (my_dict)\n",
    "data_2 = pd.DataFrame (my_2_dict)\n",
    "fig, ax = plt.subplots()\n",
    "\n",
    "ax = sns.lineplot(x='x', y='y', color = \"red\", data = data)\n",
    "ax = sns.lineplot(x='z', y='x', color = \"green\", data = data)\n",
    "ax = sns.lineplot(x='y', y='z', color = \"blue\", data = data_2)\n",
    "\n",
    "plt.legend(labels=[\"Red Line\",\"Blue Line\", \"Green Line\"])\n"
   ]
  },
  {
   "cell_type": "code",
   "execution_count": 28,
   "metadata": {},
   "outputs": [],
   "source": [
    "final_path = \"test_plot.png\"\n",
    "ax.figure.savefig(final_path)\n",
    "ax.figure.clf()"
   ]
  },
  {
   "cell_type": "code",
   "execution_count": 2,
   "metadata": {},
   "outputs": [],
   "source": [
    "nasdaq_df = pd.read_csv(\"../Data/Polished/NO_NULL_nasdaq_2010_mid_separate_year_month_day.csv\")"
   ]
  },
  {
   "cell_type": "code",
   "execution_count": 3,
   "metadata": {},
   "outputs": [
    {
     "data": {
      "text/html": [
       "<div>\n",
       "<style scoped>\n",
       "    .dataframe tbody tr th:only-of-type {\n",
       "        vertical-align: middle;\n",
       "    }\n",
       "\n",
       "    .dataframe tbody tr th {\n",
       "        vertical-align: top;\n",
       "    }\n",
       "\n",
       "    .dataframe thead th {\n",
       "        text-align: right;\n",
       "    }\n",
       "</style>\n",
       "<table border=\"1\" class=\"dataframe\">\n",
       "  <thead>\n",
       "    <tr style=\"text-align: right;\">\n",
       "      <th></th>\n",
       "      <th>Date</th>\n",
       "      <th>Day</th>\n",
       "      <th>Month</th>\n",
       "      <th>Year</th>\n",
       "      <th>Low</th>\n",
       "      <th>Open</th>\n",
       "      <th>Volume</th>\n",
       "      <th>High</th>\n",
       "      <th>Close</th>\n",
       "      <th>Adjusted Close</th>\n",
       "      <th>Ticker Symbol</th>\n",
       "    </tr>\n",
       "  </thead>\n",
       "  <tbody>\n",
       "    <tr>\n",
       "      <th>0</th>\n",
       "      <td>2010-01-15</td>\n",
       "      <td>15</td>\n",
       "      <td>1</td>\n",
       "      <td>2010</td>\n",
       "      <td>5.430000</td>\n",
       "      <td>5.640000</td>\n",
       "      <td>10985300.0</td>\n",
       "      <td>5.840000</td>\n",
       "      <td>5.500000</td>\n",
       "      <td>5.185079</td>\n",
       "      <td>AAL</td>\n",
       "    </tr>\n",
       "    <tr>\n",
       "      <th>1</th>\n",
       "      <td>2010-03-15</td>\n",
       "      <td>15</td>\n",
       "      <td>3</td>\n",
       "      <td>2010</td>\n",
       "      <td>7.720000</td>\n",
       "      <td>7.880000</td>\n",
       "      <td>4790900.0</td>\n",
       "      <td>7.930000</td>\n",
       "      <td>7.900000</td>\n",
       "      <td>7.447659</td>\n",
       "      <td>AAL</td>\n",
       "    </tr>\n",
       "    <tr>\n",
       "      <th>2</th>\n",
       "      <td>2010-04-15</td>\n",
       "      <td>15</td>\n",
       "      <td>4</td>\n",
       "      <td>2010</td>\n",
       "      <td>7.250000</td>\n",
       "      <td>7.470000</td>\n",
       "      <td>15963500.0</td>\n",
       "      <td>7.490000</td>\n",
       "      <td>7.410000</td>\n",
       "      <td>6.985714</td>\n",
       "      <td>AAL</td>\n",
       "    </tr>\n",
       "    <tr>\n",
       "      <th>3</th>\n",
       "      <td>2010-06-15</td>\n",
       "      <td>15</td>\n",
       "      <td>6</td>\n",
       "      <td>2010</td>\n",
       "      <td>9.830000</td>\n",
       "      <td>9.830000</td>\n",
       "      <td>15766900.0</td>\n",
       "      <td>10.510000</td>\n",
       "      <td>10.460000</td>\n",
       "      <td>9.861075</td>\n",
       "      <td>AAL</td>\n",
       "    </tr>\n",
       "    <tr>\n",
       "      <th>4</th>\n",
       "      <td>2010-07-15</td>\n",
       "      <td>15</td>\n",
       "      <td>7</td>\n",
       "      <td>2010</td>\n",
       "      <td>8.850000</td>\n",
       "      <td>9.270000</td>\n",
       "      <td>6418800.0</td>\n",
       "      <td>9.290000</td>\n",
       "      <td>9.110000</td>\n",
       "      <td>8.588376</td>\n",
       "      <td>AAL</td>\n",
       "    </tr>\n",
       "    <tr>\n",
       "      <th>...</th>\n",
       "      <td>...</td>\n",
       "      <td>...</td>\n",
       "      <td>...</td>\n",
       "      <td>...</td>\n",
       "      <td>...</td>\n",
       "      <td>...</td>\n",
       "      <td>...</td>\n",
       "      <td>...</td>\n",
       "      <td>...</td>\n",
       "      <td>...</td>\n",
       "      <td>...</td>\n",
       "    </tr>\n",
       "    <tr>\n",
       "      <th>147894</th>\n",
       "      <td>2021-10-15</td>\n",
       "      <td>15</td>\n",
       "      <td>10</td>\n",
       "      <td>2021</td>\n",
       "      <td>39.450001</td>\n",
       "      <td>40.770000</td>\n",
       "      <td>338800.0</td>\n",
       "      <td>42.110001</td>\n",
       "      <td>39.549999</td>\n",
       "      <td>39.549999</td>\n",
       "      <td>ZUMZ</td>\n",
       "    </tr>\n",
       "    <tr>\n",
       "      <th>147895</th>\n",
       "      <td>2021-11-15</td>\n",
       "      <td>15</td>\n",
       "      <td>11</td>\n",
       "      <td>2021</td>\n",
       "      <td>50.639999</td>\n",
       "      <td>51.730000</td>\n",
       "      <td>183700.0</td>\n",
       "      <td>52.040001</td>\n",
       "      <td>51.070000</td>\n",
       "      <td>51.070000</td>\n",
       "      <td>ZUMZ</td>\n",
       "    </tr>\n",
       "    <tr>\n",
       "      <th>147896</th>\n",
       "      <td>2021-12-15</td>\n",
       "      <td>15</td>\n",
       "      <td>12</td>\n",
       "      <td>2021</td>\n",
       "      <td>45.610001</td>\n",
       "      <td>46.840000</td>\n",
       "      <td>305300.0</td>\n",
       "      <td>47.889999</td>\n",
       "      <td>47.549999</td>\n",
       "      <td>47.549999</td>\n",
       "      <td>ZUMZ</td>\n",
       "    </tr>\n",
       "    <tr>\n",
       "      <th>147897</th>\n",
       "      <td>2022-02-15</td>\n",
       "      <td>15</td>\n",
       "      <td>2</td>\n",
       "      <td>2022</td>\n",
       "      <td>43.939999</td>\n",
       "      <td>43.939999</td>\n",
       "      <td>224200.0</td>\n",
       "      <td>45.709999</td>\n",
       "      <td>45.480000</td>\n",
       "      <td>45.480000</td>\n",
       "      <td>ZUMZ</td>\n",
       "    </tr>\n",
       "    <tr>\n",
       "      <th>147898</th>\n",
       "      <td>2022-03-15</td>\n",
       "      <td>15</td>\n",
       "      <td>3</td>\n",
       "      <td>2022</td>\n",
       "      <td>40.099998</td>\n",
       "      <td>40.250000</td>\n",
       "      <td>500200.0</td>\n",
       "      <td>41.430000</td>\n",
       "      <td>41.090000</td>\n",
       "      <td>41.090000</td>\n",
       "      <td>ZUMZ</td>\n",
       "    </tr>\n",
       "  </tbody>\n",
       "</table>\n",
       "<p>147899 rows × 11 columns</p>\n",
       "</div>"
      ],
      "text/plain": [
       "              Date  Day  Month  Year        Low       Open      Volume  \\\n",
       "0       2010-01-15   15      1  2010   5.430000   5.640000  10985300.0   \n",
       "1       2010-03-15   15      3  2010   7.720000   7.880000   4790900.0   \n",
       "2       2010-04-15   15      4  2010   7.250000   7.470000  15963500.0   \n",
       "3       2010-06-15   15      6  2010   9.830000   9.830000  15766900.0   \n",
       "4       2010-07-15   15      7  2010   8.850000   9.270000   6418800.0   \n",
       "...            ...  ...    ...   ...        ...        ...         ...   \n",
       "147894  2021-10-15   15     10  2021  39.450001  40.770000    338800.0   \n",
       "147895  2021-11-15   15     11  2021  50.639999  51.730000    183700.0   \n",
       "147896  2021-12-15   15     12  2021  45.610001  46.840000    305300.0   \n",
       "147897  2022-02-15   15      2  2022  43.939999  43.939999    224200.0   \n",
       "147898  2022-03-15   15      3  2022  40.099998  40.250000    500200.0   \n",
       "\n",
       "             High      Close  Adjusted Close Ticker Symbol  \n",
       "0        5.840000   5.500000        5.185079           AAL  \n",
       "1        7.930000   7.900000        7.447659           AAL  \n",
       "2        7.490000   7.410000        6.985714           AAL  \n",
       "3       10.510000  10.460000        9.861075           AAL  \n",
       "4        9.290000   9.110000        8.588376           AAL  \n",
       "...           ...        ...             ...           ...  \n",
       "147894  42.110001  39.549999       39.549999          ZUMZ  \n",
       "147895  52.040001  51.070000       51.070000          ZUMZ  \n",
       "147896  47.889999  47.549999       47.549999          ZUMZ  \n",
       "147897  45.709999  45.480000       45.480000          ZUMZ  \n",
       "147898  41.430000  41.090000       41.090000          ZUMZ  \n",
       "\n",
       "[147899 rows x 11 columns]"
      ]
     },
     "execution_count": 3,
     "metadata": {},
     "output_type": "execute_result"
    }
   ],
   "source": [
    "nasdaq_df"
   ]
  },
  {
   "cell_type": "code",
   "execution_count": 13,
   "metadata": {},
   "outputs": [],
   "source": [
    "USAK_df = nasdaq_df[nasdaq_df[\"Ticker Symbol\"] == \"USAK\"]"
   ]
  },
  {
   "cell_type": "code",
   "execution_count": 14,
   "metadata": {},
   "outputs": [
    {
     "data": {
      "text/plain": [
       "High    138753\n",
       "dtype: int64"
      ]
     },
     "execution_count": 14,
     "metadata": {},
     "output_type": "execute_result"
    }
   ],
   "source": [
    "USAK_df[['High']].idxmax()"
   ]
  },
  {
   "cell_type": "code",
   "execution_count": 15,
   "metadata": {},
   "outputs": [
    {
     "data": {
      "text/plain": [
       "Date              2015-01-15\n",
       "Day                       15\n",
       "Month                      1\n",
       "Year                    2015\n",
       "Low                     28.0\n",
       "Open               29.940001\n",
       "Volume               90600.0\n",
       "High               29.940001\n",
       "Close                  28.41\n",
       "Adjusted Close         28.41\n",
       "Ticker Symbol           USAK\n",
       "Name: 138753, dtype: object"
      ]
     },
     "execution_count": 15,
     "metadata": {},
     "output_type": "execute_result"
    }
   ],
   "source": [
    "nasdaq_df.iloc[138753]"
   ]
  }
 ],
 "metadata": {
  "interpreter": {
   "hash": "aee8b7b246df8f9039afb4144a1f6fd8d2ca17a180786b69acc140d282b71a49"
  },
  "kernelspec": {
   "display_name": "Python 3.10.4 64-bit",
   "language": "python",
   "name": "python3"
  },
  "language_info": {
   "codemirror_mode": {
    "name": "ipython",
    "version": 3
   },
   "file_extension": ".py",
   "mimetype": "text/x-python",
   "name": "python",
   "nbconvert_exporter": "python",
   "pygments_lexer": "ipython3",
   "version": "3.10.4"
  },
  "orig_nbformat": 4
 },
 "nbformat": 4,
 "nbformat_minor": 2
}
