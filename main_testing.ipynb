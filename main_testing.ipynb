{
 "cells": [
  {
   "cell_type": "code",
   "execution_count": 1,
   "metadata": {},
   "outputs": [
    {
     "ename": "ModuleNotFoundError",
     "evalue": "No module named 'psycopg2'",
     "output_type": "error",
     "traceback": [
      "\u001b[0;31m---------------------------------------------------------------------------\u001b[0m",
      "\u001b[0;31mModuleNotFoundError\u001b[0m                       Traceback (most recent call last)",
      "\u001b[1;32m/Users/nnt/Library/CloudStorage/OneDrive-Personal/Storage/Carleton College/Academic/2021-2022/Spring Term/CS 257 - Software Design/H/main_testing.ipynb Cell 1'\u001b[0m in \u001b[0;36m<cell line: 2>\u001b[0;34m()\u001b[0m\n\u001b[1;32m      <a href='vscode-notebook-cell:/Users/nnt/Library/CloudStorage/OneDrive-Personal/Storage/Carleton%20College/Academic/2021-2022/Spring%20Term/CS%20257%20-%20Software%20Design/H/main_testing.ipynb#ch0000000?line=0'>1</a>\u001b[0m \u001b[39mimport\u001b[39;00m \u001b[39mpandas\u001b[39;00m \u001b[39mas\u001b[39;00m \u001b[39mpd\u001b[39;00m\n\u001b[0;32m----> <a href='vscode-notebook-cell:/Users/nnt/Library/CloudStorage/OneDrive-Personal/Storage/Carleton%20College/Academic/2021-2022/Spring%20Term/CS%20257%20-%20Software%20Design/H/main_testing.ipynb#ch0000000?line=1'>2</a>\u001b[0m \u001b[39mimport\u001b[39;00m \u001b[39mpsycopg2\u001b[39;00m\n\u001b[1;32m      <a href='vscode-notebook-cell:/Users/nnt/Library/CloudStorage/OneDrive-Personal/Storage/Carleton%20College/Academic/2021-2022/Spring%20Term/CS%20257%20-%20Software%20Design/H/main_testing.ipynb#ch0000000?line=2'>3</a>\u001b[0m \u001b[39mimport\u001b[39;00m \u001b[39mpsqlConfig\u001b[39;00m \u001b[39mas\u001b[39;00m \u001b[39mconfig\u001b[39;00m\n",
      "\u001b[0;31mModuleNotFoundError\u001b[0m: No module named 'psycopg2'"
     ]
    }
   ],
   "source": [
    "import pandas as pd\n",
    "import psycopg2\n",
    "import psqlConfig as config"
   ]
  },
  {
   "cell_type": "code",
   "execution_count": null,
   "metadata": {},
   "outputs": [],
   "source": [
    "class DataSource:\n",
    "        \n",
    "    #------------------------------\n",
    "\n",
    "    def __init__(self):\n",
    "        self.database = self.connect()\n",
    "\n",
    "    #------------------------------\n",
    "\n",
    "    def connect(self):\n",
    "        \n",
    "        try:\n",
    "            connection = psycopg2.connect(database=config.database, user=config.user, password=config.password, host = \"localhost\")\n",
    "        \n",
    "        except Exception as e:\n",
    "            print(\"Connection error: \", e)\n",
    "            exit()\n",
    "\n",
    "        return connection"
   ]
  },
  {
   "cell_type": "code",
   "execution_count": null,
   "metadata": {},
   "outputs": [],
   "source": [
    "# read the database from psql server\n",
    "teamh = DataSource() # to access the sql table, use teamh.database\n",
    "\n",
    "# convert the database to pandas\n",
    "nasdaq_df = pd.read_sql_query(\"select * from nasdaq;\", teamh.database)\n",
    "\n",
    "nasdaq_df"
   ]
  },
  {
   "cell_type": "code",
   "execution_count": null,
   "metadata": {},
   "outputs": [],
   "source": [
    "cursor = teamh.database.cursor()\n",
    "cursor.execute(\"select * from nasdaq\",)\n",
    "table = cursor.fetchall()\n",
    "\n",
    "table[1][2]"
   ]
  },
  {
   "cell_type": "code",
   "execution_count": null,
   "metadata": {},
   "outputs": [],
   "source": [
    "cursor = teamh.database.cursor()\n",
    "cursor.execute(\"select ticker, rec_year, rec_month from nasdaq\",)\n",
    "table = cursor.fetchall()\n",
    "\n",
    "for row in table:\n",
    "    print(str(table[0]) + \" \" + str(table[1]) + \" \" + str(table[2]))"
   ]
  }
 ],
 "metadata": {
  "interpreter": {
   "hash": "aee8b7b246df8f9039afb4144a1f6fd8d2ca17a180786b69acc140d282b71a49"
  },
  "kernelspec": {
   "display_name": "Python 3.10.4 64-bit",
   "language": "python",
   "name": "python3"
  },
  "language_info": {
   "codemirror_mode": {
    "name": "ipython",
    "version": 3
   },
   "file_extension": ".py",
   "mimetype": "text/x-python",
   "name": "python",
   "nbconvert_exporter": "python",
   "pygments_lexer": "ipython3",
   "version": "3.10.4"
  },
  "orig_nbformat": 4
 },
 "nbformat": 4,
 "nbformat_minor": 2
}
