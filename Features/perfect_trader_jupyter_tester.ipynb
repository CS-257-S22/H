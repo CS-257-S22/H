{
 "cells": [
  {
   "cell_type": "code",
   "execution_count": null,
   "metadata": {},
   "outputs": [],
   "source": [
    "# setting path to the directory with the features\n",
    "import sys\n",
    "sys.path.append(sys.path[0]+'/./Features')\n",
    "\n",
    "# UNIVERSAL IMPORT\n",
    "from universal_import import *\n",
    "\n",
    "# import other features\n",
    "import helper\n",
    "import strategies_helper\n",
    "import portfolio_class\n",
    "\n",
    "# read the database\n",
    "nasdaq_df = helper.get_dataframe()"
   ]
  },
  {
   "cell_type": "markdown",
   "metadata": {},
   "source": [
    "# How this strategy works?\n",
    "### 1. Randomly select a stock every month.\n",
    "### 2. Find the lowest price within that month and invest.\n",
    "### 3. Sell at the higest price within the next month.\n",
    "### 4. Repeats the process for the next month."
   ]
  },
  {
   "cell_type": "code",
   "execution_count": null,
   "metadata": {},
   "outputs": [],
   "source": [
    "def perfect_trader(investment_year, divestment_year, dataframe):\n",
    "    \"\"\"\n",
    "    DESCRIPTION:\n",
    "        Calculate the monthly ROIs of a portfolio that invests in the 500 companies with the largest market cap.\n",
    "        Be noted that the list of these 500 companies are dynamically calculated and changed monthly.\n",
    "    \n",
    "    INPUT SIGNATURE:\n",
    "        1. investment_year (int)\n",
    "        2. divestment_year (int)\n",
    "        3. dataframe (Pandas dataframe): the source of our data, usually nasdaq_df\n",
    "\n",
    "    OUTPUT SIGNATURE:\n",
    "        1. yearly_ROIs (dictionary): { \"year-month\" : [portfolio value, ROI (since the start of the portfolio)] }\n",
    "            (first on the list, but will be returned last, index to this by using [-1])\n",
    "        2. final_value (float): one of the final attribute of the porfolio on the divestment date\n",
    "        3. final_liquid (float): like 2\n",
    "        4. final_invested (float): like 2\n",
    "        5. final_divested (float): like 2\n",
    "        6. final_ROI (float percentage): like 2\n",
    "    \"\"\"\n",
    "\n",
    "    "
   ]
  }
 ],
 "metadata": {
  "interpreter": {
   "hash": "aee8b7b246df8f9039afb4144a1f6fd8d2ca17a180786b69acc140d282b71a49"
  },
  "kernelspec": {
   "display_name": "Python 3.10.4 64-bit",
   "language": "python",
   "name": "python3"
  },
  "language_info": {
   "name": "python",
   "version": "3.10.4"
  },
  "orig_nbformat": 4
 },
 "nbformat": 4,
 "nbformat_minor": 2
}
