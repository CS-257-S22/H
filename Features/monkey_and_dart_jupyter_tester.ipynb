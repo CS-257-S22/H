{
 "cells": [
  {
   "cell_type": "code",
   "execution_count": null,
   "metadata": {},
   "outputs": [],
   "source": [
    "# setting path to the directory with the features\n",
    "import sys\n",
    "sys.path.append(sys.path[0]+'/./Features')\n",
    "\n",
    "# UNIVERSAL IMPORT\n",
    "from universal_import import *\n",
    "\n",
    "# import other features\n",
    "import basic_stock_stat\n",
    "import inspect_stock\n",
    "import stock_ROI\n",
    "import helper\n",
    "import portfolio_class"
   ]
  },
  {
   "cell_type": "code",
   "execution_count": null,
   "metadata": {},
   "outputs": [],
   "source": []
  }
 ],
 "metadata": {
  "language_info": {
   "name": "python"
  },
  "orig_nbformat": 4
 },
 "nbformat": 4,
 "nbformat_minor": 2
}
