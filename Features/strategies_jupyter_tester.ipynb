{
 "cells": [
  {
   "cell_type": "code",
   "execution_count": null,
   "metadata": {},
   "outputs": [],
   "source": [
    "# Pycache are evil, don't produce them\n",
    "import sys\n",
    "sys.dont_write_bytecode = True\n",
    "\n",
    "import random\n",
    "\n",
    "from portfolio_class import *"
   ]
  },
  {
   "cell_type": "markdown",
   "metadata": {},
   "source": [
    "## Purpose of Strategies Functions\n",
    "#### Return a dictionary with the structure: { [year, month] : [portfolio value, ROI (since the start of the portfolio)] }"
   ]
  },
  {
   "cell_type": "code",
   "execution_count": null,
   "metadata": {},
   "outputs": [],
   "source": [
    "nasdaq_df = get_dataframe()"
   ]
  },
  {
   "cell_type": "code",
   "execution_count": null,
   "metadata": {},
   "outputs": [],
   "source": [
    "def SP500(investment_date, divestment_date, dataframe):\n",
    "    \"\"\"\n",
    "    DESCRIPTION:\n",
    "        Calculate the monthly ROIs of a portfolio that invests in the 500 companies with the largest market cap.\n",
    "        Be noted that the list of these 500 companies are dynamically calculated and changed monthly.\n",
    "    \n",
    "    INPUT SIGNATURE:\n",
    "        1. investment_date (list): [year, month]\n",
    "        2. divestment_date (list): [year, month]\n",
    "        3. dataframe (Pandas dataframe): the source of our data, usually nasdaq_df\n",
    "\n",
    "    OUTPUT SIGNATURE:\n",
    "        1. monthly_ROIs (dictionary): { [year, month] : [portfolio value, ROI (since the start of the portfolio)] }\n",
    "    \"\"\"\n",
    "\n"
   ]
  },
  {
   "cell_type": "markdown",
   "metadata": {},
   "source": [
    "# Helper Functions"
   ]
  },
  {
   "cell_type": "code",
   "execution_count": null,
   "metadata": {},
   "outputs": [],
   "source": [
    "def the500(date, dataframe):\n",
    "    \"\"\"\n",
    "    DESCRIPTION:\n",
    "        Find the 500 companies with the largest market cap for the a given time (month within a year)\n",
    "\n",
    "    INPUT SIGNATURE:\n",
    "        1. date (list): [year, month]\n",
    "        2. dataframe (Pandas dataframe): the source of our data, usually nasdaq_df\n",
    "\n",
    "    OUTPUT SIGNATURE:\n",
    "        1. largest_500 (list): a list contains tickers of those 500 companies sorted alphabetically\n",
    "    \"\"\"\n",
    "\n",
    "    # filter out companies that we don't have information on volume of shares\n",
    "    with_volume_df = dataframe.loc[dataframe[\"Volume\"] > 0]\n",
    "\n",
    "    # empty list to store tickers\n",
    "    ticker_symbols = []\n",
    "\n",
    "    # empty list to store corresponding market value of the tickers\n",
    "    market_values = []\n",
    "\n",
    "    # NOTE: from the 2 lists above, we will create a Pandas dataframe with 2 columns, and sort descending by the market value column\n",
    "\n",
    "    # loop through the filtered dataframe and calculate each company's market value\n",
    "    for row in range(len(with_volume_df)):\n",
    "\n",
    "        ticker = with_volume_df.loc[row, \"Ticker Symbol\"]\n",
    "        volume = with_volume_df.loc[row, \"Volume\"]\n",
    "        close = with_volume_df.loc[row, \"Close\"] # we consider the closing price when finding out market cap\n",
    "\n",
    "        market_value = close * volume\n",
    "\n",
    "        # record the data\n",
    "        ticker_symbols.append(ticker)\n",
    "        market_values.append(market_value)\n",
    "\n",
    "    # create a Pandas dataframe from the 2 lists to sort them\n",
    "    data = {\"Ticker\" : ticker_symbols, \"Market Value\" : market_values}\n",
    "    market_values_df = pd.DataFrame(data)\n",
    "\n",
    "    # sort the dataframe\n",
    "    market_values_df = market_values_df.sort_values(by = [\"Market Value\"], ascending = False)\n",
    "\n",
    "    return market_values_df"
   ]
  },
  {
   "cell_type": "code",
   "execution_count": null,
   "metadata": {},
   "outputs": [],
   "source": [
    "the500([2016, 12], nasdaq_df)"
   ]
  }
 ],
 "metadata": {
  "language_info": {
   "name": "python"
  },
  "orig_nbformat": 4
 },
 "nbformat": 4,
 "nbformat_minor": 2
}
