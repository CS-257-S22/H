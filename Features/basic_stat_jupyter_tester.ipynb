{
 "cells": [
  {
   "cell_type": "code",
   "execution_count": null,
   "metadata": {},
   "outputs": [],
   "source": [
    "from helper import *"
   ]
  },
  {
   "cell_type": "code",
   "execution_count": null,
   "metadata": {},
   "outputs": [],
   "source": [
    "def get_dataframe():\n",
    "\n",
    "    \"\"\"\n",
    "    Description:\n",
    "        1. Helper function for reading the dataset to avoid multiple layers of abstraction\n",
    "\n",
    "    Input:\n",
    "        1. Path to the file of our dataset\n",
    "\n",
    "    Output: \n",
    "        2. Dataset ready for use in command line functions shaped by pandas\n",
    "    \"\"\"\n",
    "\n",
    "    # read the database from psql server to pandas and rename the columns\n",
    "    nasdaq_df = pd.read_sql_query(\"select * from nasdaq;\", teamh.database)\n",
    "    nasdaq_df = rename_database_friendly(nasdaq_df)\n",
    "\n",
    "    return nasdaq_df"
   ]
  },
  {
   "cell_type": "code",
   "execution_count": null,
   "metadata": {},
   "outputs": [],
   "source": [
    "def rename_database_friendly(dataframe):\n",
    "    \"\"\"\n",
    "    DESCRIPTION:\n",
    "        Due to technical issue, columns name have been changed when creating our team database.\n",
    "        This method aim to rename all columns to the original ones in the .csv file (in pandas only).\n",
    "\n",
    "    INPUT SIGNATURE:\n",
    "        1. dataframe (Pandas dataframe): the Pandas dataframe read from the sql server\n",
    "\n",
    "    OUTPUT SIGNATURE:\n",
    "        1. dataframe (Pandas dataframe): the renamed dataframe\n",
    "    \"\"\"\n",
    "\n",
    "    dataframe.rename(columns = {'rec_date':'Date', 'rec_day':'Day','rec_month':'Month', 'rec_year':'Year',\\\n",
    "        'low':'Low', 'rec_open':'Open', 'volume':'Volume', 'high':'High', 'rec_close':'close',\\\n",
    "        'ticker':'Ticker Symbol'}, inplace = True)\n",
    "\n",
    "    return dataframe"
   ]
  },
  {
   "cell_type": "code",
   "execution_count": null,
   "metadata": {},
   "outputs": [],
   "source": [
    "nasdaq = get_dataframe()\n",
    "\n",
    "nasdaq"
   ]
  }
 ],
 "metadata": {
  "language_info": {
   "name": "python"
  },
  "orig_nbformat": 4
 },
 "nbformat": 4,
 "nbformat_minor": 2
}
