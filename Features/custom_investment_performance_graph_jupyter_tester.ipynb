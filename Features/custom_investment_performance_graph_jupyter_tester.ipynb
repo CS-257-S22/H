{
 "cells": [
  {
   "cell_type": "code",
   "execution_count": null,
   "metadata": {},
   "outputs": [],
   "source": [
    "# setting path to the directory with the features\n",
    "import sys\n",
    "sys.path.append(sys.path[0]+'/./Features')\n",
    "\n",
    "# UNIVERSAL IMPORT\n",
    "from universal_import import *\n",
    "\n",
    "import portfolio_class\n",
    "\n",
    "#------------------------------\n",
    "\n",
    "def juxtapose_portfolio(portfolio_ROI_df):\n",
    "    \"\"\"\n",
    "    DESCRIPTION:\n",
    "        Generate a graph (either bar or line) that juxtapose the user's custom portfolio against the SP100 and the monkey portfolio.\n",
    "\n",
    "    INPUT SIGNATURE:\n",
    "        1. portfolio_ROI_df (Pandas dataframe): the dataframe with 2 columns (Year, ROI) of the user's portfolio\n",
    "            This dataframe can be generated with the method get_yearly_ROI() within the portfolio class\n",
    "\n",
    "    OUTPUT SIGNATURE:\n",
    "        1. The graph as a png store within the Internal Data folder\n",
    "    \"\"\"\n",
    "\n",
    "    # get the SP100 and monkey investment dataframe\n",
    "    SP100_df = pd.read_csv(\"Internal Data/SP100_yearly_ROI.csv\")\n",
    "    monkey_df = pd.read_csv(\"Internal Data/monkey_yearly_ROI.csv\")\n",
    "\n",
    "    # graph the figure\n",
    "    fig, custom_portfolio_graph = plt.subplots()\n",
    "\n",
    "    # overlaying 3 line graphs onto each other\n",
    "    custom_portfolio_graph = sns.lineplot(x = 'Year', y = 'ROI', color = \"red\", data = SP100_df) # first, the SP100 graph\n",
    "    custom_portfolio_graph = sns.lineplot(x = 'Year', y = 'ROI', color = \"green\", data = monkey_df) # second, the monkey graph\n",
    "    custom_portfolio_graph = sns.lineplot(x = 'Year', y = 'ROI', color = \"blue\", data = portfolio_ROI_df) # third, the user's portfolio\n",
    "    plt.legend(labels=[\"SP100 Portfolio\",\"Monkey Portfolio\", \"Custom Portfolio\"])\n",
    "\n",
    "    # add label to each bar\n",
    "    for p in custom_portfolio_graph.patches:\n",
    "        custom_portfolio_graph.annotate(\"%.0f\" % p.get_height(), (p.get_x() + p.get_width() / 2., p.get_height()),\n",
    "            ha='center', va='center', fontsize=10, color='black', xytext=(0, 5),\n",
    "            textcoords = 'offset points')\n",
    "\n",
    "    # generate graph's name and path\n",
    "    name = \"custom_portfolio_figure.png\"\n",
    "    # location = \"./Flask/static/photos/graphs/\"\n",
    "    location = \"./Internal Data/\" # new location solely to accomodate this notebook\n",
    "    final_path = location + name\n",
    "\n",
    "    # export the graph\n",
    "    custom_portfolio_graph.figure.savefig(final_path)\n",
    "    custom_portfolio_graph.figure.clf()\n",
    "\n",
    "    # return the name for accessibility from other functions\n",
    "    return name\n",
    "\n",
    "#------------------------------\n",
    "\n"
   ]
  },
  {
   "cell_type": "code",
   "execution_count": null,
   "metadata": {},
   "outputs": [],
   "source": [
    "my_portfolio = portfolio_class.portfolio()\n",
    "\n",
    "my_portfolio.transaction(\"AAPL\", \"BOUGHT\", [2016, 5], \"Low\")\n",
    "my_portfolio.transaction(\"AAPL\", \"BOUGHT\", [2017, 6], \"Low\")\n",
    "my_portfolio.transaction(\"AAPL\", \"SOLD\", [2018, 9], \"High\")\n",
    "my_portfolio.transaction(\"AAPL\", \"BOUGHT\", [2019, 10], \"Low\")\n",
    "\n",
    "my_portfolio_ROI_df, my_portfolio_ROI_dict = my_portfolio.get_yearly_ROI(2022)\n",
    "\n",
    "juxtapose_portfolio(my_portfolio_ROI_df)"
   ]
  }
 ],
 "metadata": {
  "interpreter": {
   "hash": "aee8b7b246df8f9039afb4144a1f6fd8d2ca17a180786b69acc140d282b71a49"
  },
  "kernelspec": {
   "display_name": "Python 3.10.4 64-bit",
   "language": "python",
   "name": "python3"
  },
  "language_info": {
   "codemirror_mode": {
    "name": "ipython",
    "version": 3
   },
   "file_extension": ".py",
   "mimetype": "text/x-python",
   "name": "python",
   "nbconvert_exporter": "python",
   "pygments_lexer": "ipython3",
   "version": "3.10.4"
  },
  "orig_nbformat": 4
 },
 "nbformat": 4,
 "nbformat_minor": 2
}
