{
 "cells": [
  {
   "cell_type": "code",
   "execution_count": null,
   "metadata": {},
   "outputs": [],
   "source": [
    "# setting path to the directory with the features\n",
    "import sys\n",
    "sys.path.append(sys.path[0]+'/./Features')\n",
    "\n",
    "# UNIVERSAL IMPORT\n",
    "from universal_import import *\n",
    "\n",
    "# import other features\n",
    "import helper\n",
    "import strategies_helper\n",
    "import portfolio_class\n",
    "\n",
    "# read the database\n",
    "nasdaq_df = helper.get_dataframe()"
   ]
  },
  {
   "cell_type": "code",
   "execution_count": null,
   "metadata": {},
   "outputs": [],
   "source": []
  }
 ],
 "metadata": {
  "language_info": {
   "name": "python"
  },
  "orig_nbformat": 4
 },
 "nbformat": 4,
 "nbformat_minor": 2
}
